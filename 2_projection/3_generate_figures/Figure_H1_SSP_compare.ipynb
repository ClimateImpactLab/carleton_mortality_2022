{
 "cells": [
  {
   "cell_type": "markdown",
   "id": "d54447c6-cc17-4cf8-b47a-0936b8031709",
   "metadata": {},
   "source": [
    "## Script to produce Appendix Figure H1 in Carleton et al 2022: \n",
    "#### Constructing a hybrid Shared Socioeconomic Scenario (SSP) to approximate an income trajectory that is endogenous to climate change, following Burke, Hsiang, and Miguel (2015)\n",
    "\n",
    "Panel B shows the mean difference in income between SSP2 and a hybrid socioeconomic scenario in which SSP2 projected income is replaced by SSP3 projected income only for the poorest 60% of countries in 2010. \n",
    "\n",
    "Run the notebook sequentially to produce Figure H1. Charts are stored in `OUTPUT/figures/Figure_H1_SSP_compare`\n"
   ]
  },
  {
   "cell_type": "code",
   "execution_count": 1,
   "id": "13bd8515-3fc3-4981-a535-562fdf23cff4",
   "metadata": {},
   "outputs": [],
   "source": [
    "import os\n",
    "import numpy as np\n",
    "import pandas as pd\n",
    "import xarray as xr\n",
    "import time\n",
    "import matplotlib.pyplot as plt\n",
    "import matplotlib as mpl\n",
    "%matplotlib inline"
   ]
  },
  {
   "cell_type": "markdown",
   "id": "9cf8fefb-e6ed-4fbe-9183-fbef8cd32292",
   "metadata": {},
   "source": [
    "#### Setup"
   ]
  },
  {
   "cell_type": "code",
   "execution_count": 122,
   "id": "27fd3dde-dc4f-425f-827a-2cd515000992",
   "metadata": {},
   "outputs": [],
   "source": [
    "# define paths\n",
    "REPO = os.getenv('REPO')\n",
    "DB = os.getenv('DB')\n",
    "OUTPUT = os.getenv('OUTPUT')\n",
    "\n",
    "# inputs\n",
    "gdppath = '{}/2_projection/2_econ_vars'.format(DB)\n",
    "poppath = '{}/3_valuation/inputs/interpolated_pop_exp'.format(DB)\n",
    "\n",
    "# output\n",
    "output_dir = '{}/figures/Figure_H1_SSP_compare'.format(OUTPUT)"
   ]
  },
  {
   "cell_type": "code",
   "execution_count": 109,
   "id": "50c13ec4-4fbe-4ba3-a365-a1e884559974",
   "metadata": {},
   "outputs": [],
   "source": [
    "# define utility functions\n",
    "\n",
    "def wquantile(x,q):           \n",
    "    xsort = x.sort_values(x.columns[0])\n",
    "    xsort['index'] = range(len(x))\n",
    "    p = q * x[x.columns[1]].sum()\n",
    "    pop = float(xsort[xsort.columns[1]][xsort['index']==0])\n",
    "    i = 0\n",
    "    while pop < p:\n",
    "        pop = pop + float(xsort[xsort.columns[1]][xsort['index']==i+1])\n",
    "        i = i + 1\n",
    "    return xsort[xsort.columns[0]][xsort['index']==i]\n",
    "\n",
    "def reset_index(df):\n",
    "    '''Returns DataFrame with index as columns'''\n",
    "    index_df = df.index.to_frame(index=False)\n",
    "    df = df.reset_index(drop=True)\n",
    "    #  In merge is important the order in which you pass the dataframes\n",
    "    # if the index contains a Categorical. \n",
    "    # pd.merge(df, index_df, left_index=True, right_index=True) does not work\n",
    "    return pd.merge(index_df, df, left_index=True, right_index=True)"
   ]
  },
  {
   "cell_type": "markdown",
   "id": "1ae58fff-6c3e-4e77-9243-587da43060cd",
   "metadata": {},
   "source": [
    "### set parameters and toggles"
   ]
  },
  {
   "cell_type": "code",
   "execution_count": 124,
   "id": "58379919-741c-44b7-8ea6-de8cc9e8591f",
   "metadata": {},
   "outputs": [],
   "source": [
    "\"\"\" Creates dataframe and chart showing time series of difference in iso-level GDPpc of one\n",
    "    SSP scenario relative to another of 5 income quintiles divided based on a reference year\n",
    "\n",
    "    Distinct steps in this process include:\n",
    "        - identify income quintiles\n",
    "        - create timeseries of average GDPpc under each scenario\n",
    "        - take ratio of comparison to reference\n",
    "        - plot output\n",
    "\n",
    "Parameters\n",
    "----------\n",
    "df1: SSP you are plotting difference of \n",
    "df2: reference SSP\n",
    "flatten: True if setting the top 2 quintiles to 0\n",
    "year: year which quintile breakdown is based; default is 2010\n",
    "logvar: False if using GDPpc in $ (default); True if using log GDPpc\n",
    "savefig: saves to OUTPUT/figures/Figure_H1_SSP_compare\n",
    "\n",
    "\"\"\"\n",
    "\n",
    "SSPtest = 'SSP3'\n",
    "SSPref = 'SSP2'\n",
    "flatten=True \n",
    "year=2010\n",
    "logvar=False\n",
    "savefig=True"
   ]
  },
  {
   "cell_type": "code",
   "execution_count": 112,
   "id": "7bb2ac7d-ba23-4caf-b289-e5f0ef39f37d",
   "metadata": {},
   "outputs": [],
   "source": [
    "# import data \n",
    "df1l = pd.read_csv(os.path.join(gdppath, 'iso_gdppc_low_{}.csv'.format(SSPtest)))\n",
    "df1h = pd.read_csv(os.path.join(gdppath, 'iso_gdppc_high_{}.csv'.format(SSPtest)))\n",
    "\n",
    "df2l = pd.read_csv(os.path.join(gdppath, 'iso_gdppc_low_{}.csv'.format(SSPref)))\n",
    "df2h = pd.read_csv(os.path.join(gdppath, 'iso_gdppc_high_{}.csv'.format(SSPref)))\n",
    "\n",
    "dfpop1 = xr.open_dataset(os.path.join(poppath, 'interpolated_pop_exp_{}.nc4'.format(SSPtest)))\n",
    "dfpop2 = xr.open_dataset(os.path.join(poppath, 'interpolated_pop_exp_{}.nc4'.format(SSPref)))\n",
    "\n",
    "# extract only relevant pop data\n",
    "dfpop1 = dfpop1.squeeze('ssp').to_dataframe().reset_index()[['iso', 'region', 'year', 'pop']].groupby(['iso', 'year']).sum().reset_index()\n",
    "dfpop2 = dfpop2.squeeze('ssp').to_dataframe().reset_index()[['iso', 'region', 'year', 'pop']].groupby(['iso', 'year']).sum().reset_index()"
   ]
  },
  {
   "cell_type": "code",
   "execution_count": 113,
   "id": "15c5ccdc-3c68-465e-8ba3-1aa49ae9c5a0",
   "metadata": {},
   "outputs": [],
   "source": [
    "# rename gdp cols\n",
    "df1l.rename(columns={'0':'low_gdp'}, inplace=True)\n",
    "df1h.rename(columns={'0':'high_gdp'}, inplace=True)\n",
    "df2l.rename(columns={'0':'low_gdp'}, inplace=True)\n",
    "df2h.rename(columns={'0':'high_gdp'}, inplace=True)\n",
    "\n",
    "# combine low and high IAM in each GDP SSP file\n",
    "df1 = df1l[['iso', 'year', 'low_gdp']].merge(df1h[['iso', 'year', 'high_gdp']], left_on=['iso', 'year'], right_on=['iso', 'year'])\n",
    "df2 = df2l[['iso', 'year', 'low_gdp']].merge(df2h[['iso', 'year', 'high_gdp']], left_on=['iso', 'year'], right_on=['iso', 'year'])\n",
    "\n",
    "# create avg gdp per ssp\n",
    "df1['gdppc'] = (df1['low_gdp'] + df1['high_gdp'])/2\n",
    "df2['gdppc'] = (df2['low_gdp'] + df2['high_gdp'])/2"
   ]
  },
  {
   "cell_type": "code",
   "execution_count": 115,
   "id": "db7d5632-e121-43e4-90ea-42351e34ff93",
   "metadata": {},
   "outputs": [],
   "source": [
    "# quintiles identified in df1 will equal df2 \n",
    "\n",
    "# take only 2010 and relevant columns\n",
    "df_temp = df1.loc[df1['year']==2010, ['iso',\"gdppc\"]].reset_index(drop=True)\n",
    "\n",
    "# drop duplicates (which are currently small countries just filled in by global average)\n",
    "df_temp = df_temp.drop_duplicates(subset=['gdppc']).reset_index(drop=True)\n",
    "\n",
    "# divide into 5 quintiles\n",
    "qlabs = [\"Poorest 20%\", \"20-40 Percentile\", \"Middle 20%\", \"60-80 Percentile\", \"Richest 20%\"]\n",
    "df_temp['qtile'] = pd.qcut(df_temp['gdppc'], 5, labels=qlabs)"
   ]
  },
  {
   "cell_type": "code",
   "execution_count": 117,
   "id": "29595fff-e128-498b-9554-68e17c53ae57",
   "metadata": {},
   "outputs": [],
   "source": [
    "# merge quintiles into gdp dfs\n",
    "df1 = df1.merge(df_temp[['iso','qtile']], how='left', left_on='iso', right_on='iso')[['iso', 'year', 'gdppc', 'qtile']]\n",
    "df2 = df2.merge(df_temp[['iso','qtile']], how='left', left_on='iso', right_on='iso')[['iso', 'year', 'gdppc', 'qtile']]\n",
    "\n",
    "# merge pop data into gdp dfs\n",
    "df1 = df1.merge(dfpop1, how='left', left_on=['iso', 'year'], right_on=['iso', 'year'])\n",
    "df2 = df2.merge(dfpop2, how='left', left_on=['iso', 'year'], right_on=['iso', 'year'])"
   ]
  },
  {
   "cell_type": "code",
   "execution_count": 118,
   "id": "49f2fa94-bb33-4b13-8c54-74772d4fae54",
   "metadata": {},
   "outputs": [],
   "source": [
    "# calculate population weights by year, qtile \n",
    "df1['pweight'] = df1['pop']/df1.groupby(['year','qtile'])['pop'].transform('sum')\n",
    "df2['pweight'] = df2['pop']/df2.groupby(['year','qtile'])['pop'].transform('sum')\n",
    "\n",
    "# multiply out gdp by weight\n",
    "df1['wgdp'] = df1['gdppc'] * df1['pweight']\n",
    "df2['wgdp'] = df2['gdppc'] * df2['pweight']\n",
    "\n",
    "# take annual means by quintile\n",
    "df1 = reset_index(pd.pivot_table(df1, values='wgdp', index='year', columns='qtile', aggfunc='sum'))\n",
    "df2 = reset_index(pd.pivot_table(df2, values='wgdp', index='year', columns='qtile', aggfunc='sum'))"
   ]
  },
  {
   "cell_type": "code",
   "execution_count": 119,
   "id": "a38660fd-efee-456b-b961-cbaa6efcf97e",
   "metadata": {},
   "outputs": [],
   "source": [
    "# calculate ratio between df1/df2\n",
    "d = {}\n",
    "for q in qlabs:\n",
    "    d[q] = (df1[q] / df2[q] - 1)*100\n",
    "\n",
    "# set highest 2 quintiles to 0 if flatten == true\n",
    "if flatten == True:\n",
    "    d[\"60-80 Percentile\"] = d[\"60-80 Percentile\"] * 0\n",
    "    d[\"Richest 20%\"] = d[\"Richest 20%\"] * 0  "
   ]
  },
  {
   "cell_type": "code",
   "execution_count": 126,
   "id": "0e715d30-8f5d-4f90-8dee-f5857afd2457",
   "metadata": {},
   "outputs": [
    {
     "data": {
      "image/png": "[encoded data removed]",
      "text/plain": [
       "<Figure size 360x288 with 1 Axes>"
      ]
     },
     "metadata": {
      "needs_background": "light"
     },
     "output_type": "display_data"
    }
   ],
   "source": [
    "# plot results\n",
    "years = df1['year']\n",
    "\n",
    "colors = ['darkred', 'red', 'darkorange', 'gold', 'palegoldenrod']\n",
    "\n",
    "for i, q in enumerate(qlabs):\n",
    "    plt.plot(years, d[q], c=colors[i])\n",
    "plt.xlabel('Year')\n",
    "plt.ylabel('% change in GDP pc relative to reference')\n",
    "plt.title(f\"GDP pc in {SSPtest} relative to {SSPref} (avg across IAM)\")\n",
    "plt.legend(qlabs, frameon=False, loc=\"lower left\")\n",
    "plt.hlines(0, min(df1['year']), max(df1['year']), colors='black', linewidth=.6)\n",
    "plt.ylim([-100, 25])\n",
    "plt.locator_params(axis=\"y\", nbins=5)\n",
    "plt.rcParams[\"figure.figsize\"] = (5,4)\n",
    "plt.margins(0)\n",
    "\n",
    "if savefig:\n",
    "    if not os.path.isdir(output_dir):\n",
    "        os.makedirs(output_dir)\n",
    "    plt.savefig(os.path.join(output_dir, '{}_income_compare_{}.pdf'.format(SSPtest, SSPref)))\n",
    "    \n",
    "plt.show()"
   ]
  },
  {
   "cell_type": "code",
   "execution_count": null,
   "id": "24543ad1-edbb-48c6-9c7b-b67c7cb87089",
   "metadata": {},
   "outputs": [],
   "source": []
  }
 ],
 "metadata": {
  "kernelspec": {
   "display_name": "Python 3",
   "language": "python",
   "name": "python3"
  },
  "language_info": {
   "codemirror_mode": {
    "name": "ipython",
    "version": 3
   },
   "file_extension": ".py",
   "mimetype": "text/x-python",
   "name": "python",
   "nbconvert_exporter": "python",
   "pygments_lexer": "ipython3",
   "version": "3.8.5"
  }
 },
 "nbformat": 4,
 "nbformat_minor": 5
}
